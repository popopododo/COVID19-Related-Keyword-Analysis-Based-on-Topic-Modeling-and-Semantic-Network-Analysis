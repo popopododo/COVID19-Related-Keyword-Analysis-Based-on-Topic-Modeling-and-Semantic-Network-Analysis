{
 "cells": [
  {
   "cell_type": "code",
   "execution_count": 14,
   "metadata": {},
   "outputs": [
    {
     "name": "stdout",
     "output_type": "stream",
     "text": [
      "Requirement already satisfied: eunjeon in c:\\users\\kdw27\\appdata\\local\\programs\\python\\python36\\lib\\site-packages (0.4.0)"
     ]
    },
    {
     "name": "stderr",
     "output_type": "stream",
     "text": [
      "WARNING: Ignoring invalid distribution -ensorflow (c:\\users\\kdw27\\appdata\\local\\programs\\python\\python36\\lib\\site-packages)\n",
      "WARNING: Ignoring invalid distribution -ensorflow (c:\\users\\kdw27\\appdata\\local\\programs\\python\\python36\\lib\\site-packages)\n",
      "WARNING: Ignoring invalid distribution -ensorflow (c:\\users\\kdw27\\appdata\\local\\programs\\python\\python36\\lib\\site-packages)\n",
      "WARNING: Ignoring invalid distribution -ensorflow (c:\\users\\kdw27\\appdata\\local\\programs\\python\\python36\\lib\\site-packages)\n",
      "WARNING: Ignoring invalid distribution -ensorflow (c:\\users\\kdw27\\appdata\\local\\programs\\python\\python36\\lib\\site-packages)\n",
      "WARNING: Ignoring invalid distribution -ensorflow (c:\\users\\kdw27\\appdata\\local\\programs\\python\\python36\\lib\\site-packages)\n",
      "WARNING: You are using pip version 21.2.4; however, version 21.3 is available.\n",
      "You should consider upgrading via the 'c:\\users\\kdw27\\appdata\\local\\programs\\python\\python36\\python.exe -m pip install --upgrade pip' command.\n"
     ]
    },
    {
     "name": "stdout",
     "output_type": "stream",
     "text": [
      "\n"
     ]
    }
   ],
   "source": [
    "!pip3 install eunjeon"
   ]
  },
  {
   "cell_type": "code",
   "execution_count": 50,
   "metadata": {},
   "outputs": [],
   "source": [
    "# from konlpy.tag import Mecab\n",
    "from tqdm import tqdm\n",
    "import re\n",
    "import pickle\n",
    "import csv\n",
    "import pandas as pd\n",
    "from eunjeon import Mecab"
   ]
  },
  {
   "cell_type": "code",
   "execution_count": 40,
   "metadata": {
    "scrolled": true
   },
   "outputs": [
    {
     "name": "stderr",
     "output_type": "stream",
     "text": [
      "100%|██████████████████████████████████████████████████████████████████████████| 24017/24017 [00:03<00:00, 7130.96it/s]\n"
     ]
    }
   ],
   "source": [
    "def clean_text(text):\n",
    "    text = text.replace(\".\", \" \").strip()\n",
    "    text = text.replace(\".\", \" \").strip()\n",
    "    pattern = pattern = '[^ ㄱ-ㅣ가-힣|0-9|]+'\n",
    "    text = re.sub(pattern=pattern, repl='',string=text)\n",
    "    return text\n",
    "\n",
    "def get_nouns(tokenizer,sentence):\n",
    "    tagged = tokenizer.pos(sentence)\n",
    "    nouns = [s for s, t in tagged if t in ['SL','NNG','NNP'] and len(s)>1]\n",
    "    return nouns\n",
    "\n",
    "def tokenize(df):\n",
    "    tokenizer = Mecab()\n",
    "    processed_data=[]\n",
    "    for sent in tqdm(df['text']):\n",
    "        sent=str(sent)\n",
    "        sentence= clean_text(sent.replace('\\n','').strip())\n",
    "        processed_data.append(get_nouns(tokenizer,sentence))\n",
    "    return processed_data\n",
    "\n",
    "def save_processed_data(processed_data):\n",
    "    with open(r'./여행_후최종tokenized.csv', 'w', newline='',encoding='cp949') as f:\n",
    "        writer =csv.writer(f)\n",
    "        for data in processed_data:\n",
    "            writer.writerow(data)\n",
    "        \n",
    "if __name__==\"__main__\":\n",
    "    df = pd.read_csv(r'./여행_후.csv',encoding='utf-8-sig')\n",
    "    processed_data =tokenize(df)\n",
    "    save_processed_data(processed_data)"
   ]
  }
 ],
 "metadata": {
  "kernelspec": {
   "display_name": "Python 3",
   "language": "python",
   "name": "python3"
  },
  "language_info": {
   "codemirror_mode": {
    "name": "ipython",
    "version": 3
   },
   "file_extension": ".py",
   "mimetype": "text/x-python",
   "name": "python",
   "nbconvert_exporter": "python",
   "pygments_lexer": "ipython3",
   "version": "3.6.8"
  }
 },
 "nbformat": 4,
 "nbformat_minor": 4
}
