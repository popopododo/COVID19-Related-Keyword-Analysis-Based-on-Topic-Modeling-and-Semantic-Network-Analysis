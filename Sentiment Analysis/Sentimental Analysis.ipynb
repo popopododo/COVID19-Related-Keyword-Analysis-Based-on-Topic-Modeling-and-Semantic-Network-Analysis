{
 "cells": [
  {
   "cell_type": "code",
   "execution_count": null,
   "metadata": {
    "id": "U-IvC_OPabdU"
   },
   "outputs": [],
   "source": [
    "!pip install NRCLex"
   ]
  },
  {
   "cell_type": "markdown",
   "metadata": {},
   "source": [
    "# Sentimental Analysis"
   ]
  },
  {
   "cell_type": "code",
   "execution_count": null,
   "metadata": {
    "id": "OvU0eLGTmPZ3"
   },
   "outputs": [],
   "source": [
    "from nrclex import NRCLex\n",
    "import pandas as pd\n",
    "import re\n",
    "import nltk\n",
    "nltk.download('punkt')"
   ]
  },
  {
   "cell_type": "code",
   "execution_count": null,
   "metadata": {
    "id": "m6Xj3QOepQdy"
   },
   "outputs": [],
   "source": [
    "df= pd.read_csv(\"data_BBC_vaccine.csv\",encoding= 'unicode_escape',index_col=0)"
   ]
  },
  {
   "cell_type": "code",
   "execution_count": null,
   "metadata": {
    "id": "OZ19YaK0pWFA"
   },
   "outputs": [],
   "source": [
    "df['text'][1] # Check whether data is imported well"
   ]
  },
  {
   "cell_type": "markdown",
   "metadata": {},
   "source": [
    "# Data Preprocessing"
   ]
  },
  {
   "cell_type": "code",
   "execution_count": null,
   "metadata": {
    "id": "xBBu6rBLpXVe"
   },
   "outputs": [],
   "source": [
    "def clean_text(text):\n",
    "    text=str(text).replace(\".\",\" \").strip()\n",
    "    pattern='[^a-zA-Z]'\n",
    "    pattern= re.sub(pattern,repl='',string=text)\n",
    "    return text"
   ]
  },
  {
   "cell_type": "code",
   "execution_count": null,
   "metadata": {
    "id": "gizKt4kLpZVn"
   },
   "outputs": [],
   "source": [
    "def emotions(df):\n",
    "    size=len(df['text'])\n",
    "    for i in range(1,size):\n",
    "        df['text'][i]=clean_text(df['text'][i])"
   ]
  },
  {
   "cell_type": "code",
   "execution_count": null,
   "metadata": {
    "id": "lbn6FK7Qpawt"
   },
   "outputs": [],
   "source": [
    "emotions(df)"
   ]
  },
  {
   "cell_type": "code",
   "execution_count": null,
   "metadata": {
    "id": "3I_SrtA9pcnn"
   },
   "outputs": [],
   "source": [
    "df"
   ]
  },
  {
   "cell_type": "markdown",
   "metadata": {},
   "source": [
    "# Extract Emotions"
   ]
  },
  {
   "cell_type": "code",
   "execution_count": null,
   "metadata": {
    "id": "XRhF6wgVpekV"
   },
   "outputs": [],
   "source": [
    "def AddTopEmotion(df,l):\n",
    "    size=len(df['text'])\n",
    "    for i in range(size):\n",
    "        text=df['text'][i]\n",
    "        emotion= NRCLex(text)\n",
    "        l.append(emotion.top_emotions)\n"
   ]
  },
  {
   "cell_type": "code",
   "execution_count": null,
   "metadata": {
    "id": "WfDBc_o_skhN"
   },
   "outputs": [],
   "source": [
    "temp=[]\n",
    "temp=list(temp)\n",
    "temp.clear()"
   ]
  },
  {
   "cell_type": "code",
   "execution_count": null,
   "metadata": {
    "id": "gqbYfQJepnn4"
   },
   "outputs": [],
   "source": [
    "AddTopEmotion(df,temp)"
   ]
  },
  {
   "cell_type": "code",
   "execution_count": null,
   "metadata": {
    "id": "sFpn0tldtZz7"
   },
   "outputs": [],
   "source": [
    "df['emotion']=temp # Make a new column for emotions"
   ]
  },
  {
   "cell_type": "markdown",
   "metadata": {},
   "source": [
    "# Deleting [] ,(), ' '  from data"
   ]
  },
  {
   "cell_type": "code",
   "execution_count": null,
   "metadata": {
    "id": "voGbwJKWtKQm"
   },
   "outputs": [],
   "source": [
    "size=len(df['emotion'])\n",
    "for i in range(size):\n",
    "    df['emotion'][i] = str(df['emotion'][i]).replace(\"[\",\"\").replace(\"]\",\"\")"
   ]
  },
  {
   "cell_type": "code",
   "execution_count": null,
   "metadata": {
    "id": "oznuFEP3umtU"
   },
   "outputs": [],
   "source": [
    "for i in range(size):\n",
    "    df['emotion'][i] = str(df['emotion'][i]).replace(\"(\",\"\").replace(\")\",\"\")\n",
    "    "
   ]
  },
  {
   "cell_type": "code",
   "execution_count": null,
   "metadata": {
    "id": "RToq0vB9urnn"
   },
   "outputs": [],
   "source": [
    "for i in range(size):\n",
    "    df['emotion'][i] = str(df['emotion'][i]).replace(\"\\'\",\"\").replace(\"\\'\",\"\")\n",
    "    #df['emotion'][i]=str(df['emotion'][i]).split(',')"
   ]
  },
  {
   "cell_type": "code",
   "execution_count": null,
   "metadata": {
    "id": "Z19EQMQUu0Wo"
   },
   "outputs": [],
   "source": [
    "for i in range(size):\n",
    "    df['emotion'][i]=str(df['emotion'][i]).split(',')"
   ]
  },
  {
   "cell_type": "markdown",
   "metadata": {},
   "source": [
    "# Add all the emotions to dataframe"
   ]
  },
  {
   "cell_type": "code",
   "execution_count": null,
   "metadata": {
    "id": "VVmd360EtMKY"
   },
   "outputs": [],
   "source": [
    "emotions=[]\n",
    "emotions=list(d)\n",
    "emotions.clear()\n",
    "for i in range(size):\n",
    "        emotions.append(df['emotion'][i]) # Add all the emotions\n",
    "        "
   ]
  },
  {
   "cell_type": "code",
   "execution_count": null,
   "metadata": {
    "id": "PVZR80IB_W3_"
   },
   "outputs": [],
   "source": [
    "df['emotion'][1][0]"
   ]
  },
  {
   "cell_type": "code",
   "execution_count": null,
   "metadata": {
    "id": "p2t-xAxOs5Lg"
   },
   "outputs": [],
   "source": [
    "df['top_emotion']=emotions"
   ]
  },
  {
   "cell_type": "code",
   "execution_count": null,
   "metadata": {
    "id": "1vP0uXFOvggG"
   },
   "outputs": [],
   "source": [
    "df['top_emotion']"
   ]
  },
  {
   "cell_type": "code",
   "execution_count": null,
   "metadata": {
    "id": "1G1S3T9PvvV0"
   },
   "outputs": [],
   "source": [
    "df.to_csv(\"data_BBC_vaccine_emotions.csv\",encoding=\"utf-8-sig\",index=False)"
   ]
  },
  {
   "cell_type": "markdown",
   "metadata": {},
   "source": [
    "# Visualization"
   ]
  },
  {
   "cell_type": "code",
   "execution_count": null,
   "metadata": {
    "id": "44roQqCVwAIf"
   },
   "outputs": [],
   "source": [
    "from collections import Counter\n",
    "cnt=Counter(d)\n",
    "print(cnt)"
   ]
  },
  {
   "cell_type": "code",
   "execution_count": null,
   "metadata": {
    "id": "s9jDVHDEMacc"
   },
   "outputs": [],
   "source": [
    "import matplotlib.pyplot as plt\n",
    "import numpy as np\n",
    "import pandas as pd\n",
    "\n",
    "# Import\n",
    "article = pd.read_csv(\"/content/drive/MyDrive/여행_2020_2021emotions.csv\")\n",
    "\n",
    "#words_list=list(words_list).clear()\n",
    "words_list = []\n",
    "size=len(article['top_emotion'])\n",
    "for i in range(size):\n",
    "    article['top_emotion'][i]=article['top_emotion'][i].strip()\n",
    "    words_list.append(article['top_emotion'][i])\n",
    "\n",
    "# Visuala\n",
    "sentiment_result1 = pd.Series(words_list).value_counts()\n",
    "\n",
    "print(sentiment_result1, sentiment_result1.plot.bar())"
   ]
  },
  {
   "cell_type": "markdown",
   "metadata": {},
   "source": [
    "![nn](./vaccine_말기.png)"
   ]
  },
  {
   "cell_type": "code",
   "execution_count": null,
   "metadata": {},
   "outputs": [],
   "source": []
  }
 ],
 "metadata": {
  "colab": {
   "collapsed_sections": [],
   "name": "감성분석 자동화.ipynb",
   "private_outputs": true,
   "provenance": []
  },
  "kernelspec": {
   "display_name": "Python 3",
   "language": "python",
   "name": "python3"
  },
  "language_info": {
   "codemirror_mode": {
    "name": "ipython",
    "version": 3
   },
   "file_extension": ".py",
   "mimetype": "text/x-python",
   "name": "python",
   "nbconvert_exporter": "python",
   "pygments_lexer": "ipython3",
   "version": "3.6.8"
  }
 },
 "nbformat": 4,
 "nbformat_minor": 1
}
